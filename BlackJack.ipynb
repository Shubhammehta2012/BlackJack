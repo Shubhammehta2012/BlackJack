{
 "cells": [
  {
   "cell_type": "code",
   "execution_count": 1,
   "metadata": {
    "collapsed": true
   },
   "outputs": [],
   "source": [
    "import random\n",
    "suits = ('Hearts', 'Diamonds', 'Spades', 'Clubs')\n",
    "ranks = ('Two', 'Three', 'Four', 'Five', 'Six', 'Seven', 'Eight', 'Nine', 'Ten', 'Jack', 'Queen', 'King', 'Ace')\n",
    "values = {'Two':2, 'Three':3, 'Four':4, 'Five':5, 'Six':6, 'Seven':7, 'Eight':8, 'Nine':9, 'Ten':10, 'Jack':10,\n",
    "         'Queen':10, 'King':10, 'Ace':11}\n",
    "\n",
    "class Card:\n",
    "    \n",
    "    def __init__(self,suit,rank):\n",
    "        self.suit = suit\n",
    "        self.rank = rank\n",
    "    def __str__(self):\n",
    "        return self.rank +  ' of ' + self.suit"
   ]
  },
  {
   "cell_type": "code",
   "execution_count": 2,
   "metadata": {},
   "outputs": [
    {
     "data": {
      "text/plain": [
       "'red'"
      ]
     },
     "execution_count": 2,
     "metadata": {},
     "output_type": "execute_result"
    }
   ],
   "source": [
    "c = Card('red',4)\n",
    "c.suit"
   ]
  },
  {
   "cell_type": "code",
   "execution_count": 3,
   "metadata": {
    "collapsed": true
   },
   "outputs": [],
   "source": [
    "class Deck:\n",
    "    \n",
    "    def __init__(self):\n",
    "        self.deck = []\n",
    "        for suit in suits:\n",
    "            for rank in ranks:\n",
    "                self.deck.append(Card(suit,rank))\n",
    "    \n",
    "    def __str__(self):\n",
    "        all_cards = ''\n",
    "        for card in self.deck:\n",
    "            all_cards += '\\n ' + card.__str__()\n",
    "        return all_cards\n",
    "    \n",
    "    def shuffle(self):\n",
    "        return random.shuffle(self.deck)\n",
    "        \n",
    "    \n",
    "    def deal(self):\n",
    "        single_card = self.deck.pop()\n",
    "        return single_card"
   ]
  },
  {
   "cell_type": "code",
   "execution_count": 4,
   "metadata": {
    "collapsed": true
   },
   "outputs": [],
   "source": [
    "test_deck = Deck()\n",
    "# print(test_deck)"
   ]
  },
  {
   "cell_type": "code",
   "execution_count": 5,
   "metadata": {
    "collapsed": true
   },
   "outputs": [],
   "source": [
    "class Hand:\n",
    "    def __init__(self):\n",
    "        self.cards = []\n",
    "        self.value = 0\n",
    "        self.aces = 0\n",
    "    \n",
    "    def add_value(self,card):\n",
    "        self.cards.append(card)\n",
    "        self.value += values[card.rank]\n",
    "    \n",
    "    def adjust_for_aces(self):\n",
    "        pass"
   ]
  },
  {
   "cell_type": "code",
   "execution_count": 6,
   "metadata": {},
   "outputs": [
    {
     "data": {
      "text/plain": [
       "4"
      ]
     },
     "execution_count": 6,
     "metadata": {},
     "output_type": "execute_result"
    }
   ],
   "source": [
    "test_deck = Deck()\n",
    "test_deck.shuffle()\n",
    "test_player = Hand()\n",
    "test_player.add_value(test_deck.deal())\n",
    "test_player.add_value(test_deck.deal())\n",
    "test_player.value\n",
    "\n",
    "# for i in test_player.cards:\n",
    "#     print(i.suit, i.rank)"
   ]
  },
  {
   "cell_type": "code",
   "execution_count": 7,
   "metadata": {
    "collapsed": true
   },
   "outputs": [],
   "source": [
    "class Chips:\n",
    "    def __init__(self,total = 100):\n",
    "        self.total = total\n",
    "        self.bet = 0\n",
    "    \n",
    "    def win_bet(self):\n",
    "        self.total += self.bet\n",
    "#         print('your total amout now is {}'.format(self.total))\n",
    "    \n",
    "    def lose_bet(self):\n",
    "        self.total -= self.bet\n",
    "#         print('your total amout now is {}'.format(self.total))\n",
    "    "
   ]
  },
  {
   "cell_type": "code",
   "execution_count": 8,
   "metadata": {
    "collapsed": true
   },
   "outputs": [],
   "source": [
    "def take_bet(Chips):\n",
    "    Chips.bet = int(input('please eneter your bet'))\n",
    "    if Chips.bet > Chips.total:\n",
    "        print('you can not bet more than you have!!')\n",
    "    else:\n",
    "        Chips.total = Chips.total - Chips.bet\n",
    "        print('Your Remaining total is: {}'.format(Chips.total))"
   ]
  },
  {
   "cell_type": "code",
   "execution_count": null,
   "metadata": {},
   "outputs": [],
   "source": []
  },
  {
   "cell_type": "code",
   "execution_count": 9,
   "metadata": {
    "collapsed": true
   },
   "outputs": [],
   "source": [
    "def hit(Deck, Hand):\n",
    "    Hand.add_value(Deck.deal())\n",
    "#     if Hand.value <= 21:\n",
    "#         Hand.add_value(Deck.deal())\n",
    "#     else:\n",
    "#         print('You can not Hit!!!')"
   ]
  },
  {
   "cell_type": "code",
   "execution_count": null,
   "metadata": {
    "collapsed": true
   },
   "outputs": [],
   "source": []
  },
  {
   "cell_type": "code",
   "execution_count": 14,
   "metadata": {
    "collapsed": true
   },
   "outputs": [],
   "source": [
    "\n",
    "def hit_or_stand(Deck,Hand):\n",
    "    global playing\n",
    "    while True:\n",
    "        ask_player = input('do you want to hit or stand')\n",
    "        if ask_player == 'hit':\n",
    "            if Hand.value < 21:\n",
    "                hit(Deck,Hand)\n",
    "                show_some(player_hand,dealer_hand)\n",
    "            else:\n",
    "                print('You can not Hit!!!')\n",
    "                break\n",
    "        elif ask_player == 'stand':\n",
    "            playing = False\n",
    "            break\n",
    "        else:\n",
    "            print('please try again ')\n",
    "        "
   ]
  },
  {
   "cell_type": "code",
   "execution_count": 19,
   "metadata": {
    "collapsed": true
   },
   "outputs": [],
   "source": [
    "def show_some(player,dealer):\n",
    "    print('dealers hand: \\n')\n",
    "    print('<hidden card>')\n",
    "    print(dealer.cards[1])\n",
    "    print('Players Hand: \\n')\n",
    "    print(*player.cards, sep ='\\n' )\n",
    "    \n",
    "def show_all(player,dealer):\n",
    "    print(*dealer.cards, sep ='\\n' )\n",
    "    print(dealer.value)\n",
    "    print(*player.cards, sep ='\\n' )\n",
    "    print(player.value)"
   ]
  },
  {
   "cell_type": "code",
   "execution_count": 20,
   "metadata": {
    "collapsed": true
   },
   "outputs": [],
   "source": [
    "def player_busts(player, dealer,Chips):\n",
    "    print('player busts busted')\n",
    "    Chips.total\n",
    "def player_wins(player, dealer,Chips):\n",
    "    print('player wins')\n",
    "    Chips.total\n",
    "def dealer_busts(player, dealer,Chips):\n",
    "    print('Dealer busted')\n",
    "    Chips.total\n",
    "def dealer_wins(player, dealer,Chips):\n",
    "    print('dealler wins')\n",
    "    Chips.total\n"
   ]
  },
  {
   "cell_type": "code",
   "execution_count": 21,
   "metadata": {},
   "outputs": [
    {
     "name": "stdout",
     "output_type": "stream",
     "text": [
      "Welcome to the table: \n",
      "please eneter your bet20\n",
      "Your Remaining total is: 80\n",
      "dealers hand: \n",
      "\n",
      "<hidden card>\n",
      "Ten of Clubs\n",
      "Players Hand: \n",
      "\n",
      "King of Clubs\n",
      "Three of Clubs\n",
      "do you want to hit or standstand\n",
      "False\n",
      "dealers hand: \n",
      "\n",
      "<hidden card>\n",
      "Ten of Clubs\n",
      "Players Hand: \n",
      "\n",
      "King of Clubs\n",
      "Three of Clubs\n",
      "Three of Diamonds\n",
      "Ten of Clubs\n",
      "Queen of Diamonds\n",
      "23\n",
      "King of Clubs\n",
      "Three of Clubs\n",
      "13\n",
      "player wins\n",
      "players chips standing is: 80\n",
      "Do you want to play again? Y/NN\n",
      "THANK YOU FOR PLAYING!!\n"
     ]
    }
   ],
   "source": [
    "player_chips = Chips()\n",
    "while True:\n",
    "    playing = True\n",
    "\n",
    "    print('Welcome to the table: ')\n",
    "    deck = Deck()\n",
    "    deck.shuffle()\n",
    "    \n",
    "    player_hand = Hand()\n",
    "    player_hand.add_value(test_deck.deal())\n",
    "    player_hand.add_value(test_deck.deal())\n",
    "    \n",
    "    dealer_hand = Hand()\n",
    "    dealer_hand.add_value(test_deck.deal())\n",
    "    dealer_hand.add_value(test_deck.deal())\n",
    "    \n",
    "   \n",
    "    take_bet(player_chips)\n",
    "    \n",
    "    show_some(player_hand,dealer_hand)\n",
    "    \n",
    "    while playing:\n",
    "        hit_or_stand(deck, player_hand)\n",
    "        print(playing)\n",
    "        show_some(player_hand,dealer_hand)\n",
    "        \n",
    "        if player_hand.value > 21:\n",
    "            player_busts(player_hand,dealer_hand,player_chips)\n",
    "            print('you goot busted')\n",
    "            break\n",
    "    \n",
    "    if player_hand.value <= 21:\n",
    "        \n",
    "        while dealer_hand.value <=17:\n",
    "            hit(deck, dealer_hand)\n",
    "        \n",
    "        show_all(player_hand, dealer_hand)\n",
    "        \n",
    "        if dealer_hand.value >21:\n",
    "            player_wins(player_hand,dealer_hand,player_chips)\n",
    "        \n",
    "        elif dealer_hand.value > player_hand.value:\n",
    "            dealer_wins(player_hand,dealer_hand,player_chips)\n",
    "        \n",
    "        elif player_hand.value > dealer_hand.value:\n",
    "            player_wins(player_hand,dealer_hand,player_chips)\n",
    "        \n",
    "        else:\n",
    "            print('Dealer and player ties')\n",
    "        \n",
    "    \n",
    "    \n",
    "    print('players chips standing is: {}'.format(player_chips.total) )\n",
    "    \n",
    "    ask_again = input('Do you want to play again? Y/N')\n",
    "    if ask_again == 'Y':\n",
    "        playing = True\n",
    "        continue\n",
    "    else:\n",
    "        print('THANK YOU FOR PLAYING!!')\n",
    "        break"
   ]
  },
  {
   "cell_type": "code",
   "execution_count": null,
   "metadata": {
    "collapsed": true
   },
   "outputs": [],
   "source": []
  }
 ],
 "metadata": {
  "kernelspec": {
   "display_name": "Python 3",
   "language": "python",
   "name": "python3"
  },
  "language_info": {
   "codemirror_mode": {
    "name": "ipython",
    "version": 3
   },
   "file_extension": ".py",
   "mimetype": "text/x-python",
   "name": "python",
   "nbconvert_exporter": "python",
   "pygments_lexer": "ipython3",
   "version": "3.6.2"
  }
 },
 "nbformat": 4,
 "nbformat_minor": 2
}
